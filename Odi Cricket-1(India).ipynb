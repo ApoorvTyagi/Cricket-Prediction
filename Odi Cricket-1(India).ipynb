{
 "cells": [
  {
   "cell_type": "markdown",
   "metadata": {},
   "source": [
    "# ODI Cricket Prdiction Of India-1"
   ]
  },
  {
   "cell_type": "code",
   "execution_count": 1,
   "metadata": {},
   "outputs": [],
   "source": [
    "import pandas as pd\n",
    "import numpy as np                     # For mathematical calculations\n",
    "import seaborn as sns                  # For data visualization\n",
    "import matplotlib.pyplot as plt \n",
    "import seaborn as sn                   # For plotting graphs\n",
    "%matplotlib inline\n",
    "import warnings                        # To ignore any warnings\n",
    "warnings.filterwarnings(\"ignore\")"
   ]
  },
  {
   "cell_type": "code",
   "execution_count": 3,
   "metadata": {},
   "outputs": [],
   "source": [
    "match=pd.read_csv('IndiaMatches.csv')"
   ]
  },
  {
   "cell_type": "code",
   "execution_count": 4,
   "metadata": {},
   "outputs": [
    {
     "data": {
      "text/html": [
       "<div>\n",
       "<style scoped>\n",
       "    .dataframe tbody tr th:only-of-type {\n",
       "        vertical-align: middle;\n",
       "    }\n",
       "\n",
       "    .dataframe tbody tr th {\n",
       "        vertical-align: top;\n",
       "    }\n",
       "\n",
       "    .dataframe thead th {\n",
       "        text-align: right;\n",
       "    }\n",
       "</style>\n",
       "<table border=\"1\" class=\"dataframe\">\n",
       "  <thead>\n",
       "    <tr style=\"text-align: right;\">\n",
       "      <th></th>\n",
       "      <th>Team1</th>\n",
       "      <th>Team2</th>\n",
       "      <th>Ground</th>\n",
       "      <th>Winner</th>\n",
       "      <th>Host_Country</th>\n",
       "      <th>Venue_Team1</th>\n",
       "      <th>Venue_Team2</th>\n",
       "      <th>Innings_Team1</th>\n",
       "      <th>Innings_Team2</th>\n",
       "      <th>year</th>\n",
       "      <th>Day</th>\n",
       "      <th>Victory</th>\n",
       "    </tr>\n",
       "  </thead>\n",
       "  <tbody>\n",
       "    <tr>\n",
       "      <th>0</th>\n",
       "      <td>India</td>\n",
       "      <td>New Zealand</td>\n",
       "      <td>Manchester</td>\n",
       "      <td>New Zealand</td>\n",
       "      <td>England</td>\n",
       "      <td>Neutral</td>\n",
       "      <td>Neutral</td>\n",
       "      <td>First</td>\n",
       "      <td>Second</td>\n",
       "      <td>1975</td>\n",
       "      <td>Saturday</td>\n",
       "      <td>batting second</td>\n",
       "    </tr>\n",
       "    <tr>\n",
       "      <th>1</th>\n",
       "      <td>India</td>\n",
       "      <td>West Indies</td>\n",
       "      <td>Birmingham</td>\n",
       "      <td>West Indies</td>\n",
       "      <td>England</td>\n",
       "      <td>Neutral</td>\n",
       "      <td>Neutral</td>\n",
       "      <td>First</td>\n",
       "      <td>Second</td>\n",
       "      <td>1979</td>\n",
       "      <td>Saturday</td>\n",
       "      <td>batting second</td>\n",
       "    </tr>\n",
       "  </tbody>\n",
       "</table>\n",
       "</div>"
      ],
      "text/plain": [
       "   Team1        Team2      Ground       Winner Host_Country Venue_Team1  \\\n",
       "0  India  New Zealand  Manchester  New Zealand      England     Neutral   \n",
       "1  India  West Indies  Birmingham  West Indies      England     Neutral   \n",
       "\n",
       "  Venue_Team2 Innings_Team1 Innings_Team2  year       Day         Victory  \n",
       "0     Neutral         First        Second  1975  Saturday  batting second  \n",
       "1     Neutral         First        Second  1979  Saturday  batting second  "
      ]
     },
     "execution_count": 4,
     "metadata": {},
     "output_type": "execute_result"
    }
   ],
   "source": [
    "match.head(2)"
   ]
  },
  {
   "cell_type": "code",
   "execution_count": 5,
   "metadata": {},
   "outputs": [
    {
     "data": {
      "text/plain": [
       "(855, 12)"
      ]
     },
     "execution_count": 5,
     "metadata": {},
     "output_type": "execute_result"
    }
   ],
   "source": [
    "match.shape #number of rows and columns"
   ]
  },
  {
   "cell_type": "code",
   "execution_count": 6,
   "metadata": {},
   "outputs": [
    {
     "data": {
      "text/plain": [
       "Team1            object\n",
       "Team2            object\n",
       "Ground           object\n",
       "Winner           object\n",
       "Host_Country     object\n",
       "Venue_Team1      object\n",
       "Venue_Team2      object\n",
       "Innings_Team1    object\n",
       "Innings_Team2    object\n",
       "year              int64\n",
       "Day              object\n",
       "Victory          object\n",
       "dtype: object"
      ]
     },
     "execution_count": 6,
     "metadata": {},
     "output_type": "execute_result"
    }
   ],
   "source": [
    "match.dtypes "
   ]
  },
  {
   "cell_type": "code",
   "execution_count": 7,
   "metadata": {},
   "outputs": [
    {
     "data": {
      "text/plain": [
       "India           461\n",
       "Australia        69\n",
       "Pakistan         69\n",
       "West Indies      59\n",
       "Sri Lanka        54\n",
       "New Zealand      44\n",
       "South Africa     43\n",
       "England          39\n",
       "Zimbabwe         10\n",
       "Bangladesh        5\n",
       "Kenya             2\n",
       "Name: Winner, dtype: int64"
      ]
     },
     "execution_count": 7,
     "metadata": {},
     "output_type": "execute_result"
    }
   ],
   "source": [
    "match['Winner'].value_counts() "
   ]
  },
  {
   "cell_type": "markdown",
   "metadata": {},
   "source": [
    "# Let's do some analysis of the matches"
   ]
  },
  {
   "cell_type": "code",
   "execution_count": 10,
   "metadata": {},
   "outputs": [
    {
     "data": {
      "text/plain": [
       "<matplotlib.axes._subplots.AxesSubplot at 0x1b233275160>"
      ]
     },
     "execution_count": 10,
     "metadata": {},
     "output_type": "execute_result"
    },
    {
     "data": {
      "image/png": "[encoded data removed]",
      "text/plain": [
       "<Figure size 432x288 with 1 Axes>"
      ]
     },
     "metadata": {
      "needs_background": "light"
     },
     "output_type": "display_data"
    }
   ],
   "source": [
    "sn.distplot(match[\"year\"])"
   ]
  },
  {
   "cell_type": "code",
   "execution_count": 13,
   "metadata": {},
   "outputs": [
    {
     "data": {
      "text/plain": [
       "<matplotlib.axes._subplots.AxesSubplot at 0x1b2333a8470>"
      ]
     },
     "execution_count": 13,
     "metadata": {},
     "output_type": "execute_result"
    },
    {
     "data": {
      "image/png": "[encoded data removed]",
      "text/plain": [
       "<Figure size 432x288 with 1 Axes>"
      ]
     },
     "metadata": {
      "needs_background": "light"
     },
     "output_type": "display_data"
    }
   ],
   "source": [
    "match['Victory'].value_counts().plot.bar()"
   ]
  },
  {
   "cell_type": "code",
   "execution_count": 14,
   "metadata": {},
   "outputs": [
    {
     "data": {
      "text/plain": [
       "<matplotlib.axes._subplots.AxesSubplot at 0x1b23340d710>"
      ]
     },
     "execution_count": 14,
     "metadata": {},
     "output_type": "execute_result"
    },
    {
     "data": {
      "image/png": "[encoded data removed]",
      "text/plain": [
       "<Figure size 432x288 with 1 Axes>"
      ]
     },
     "metadata": {
      "needs_background": "light"
     },
     "output_type": "display_data"
    }
   ],
   "source": [
    "match['Day'].value_counts().plot.bar()"
   ]
  },
  {
   "cell_type": "code",
   "execution_count": 15,
   "metadata": {},
   "outputs": [
    {
     "name": "stdout",
     "output_type": "stream",
     "text": [
      "Winner          Australia  Bangladesh  England  India  Kenya  New Zealand  \\\n",
      "Victory                                                                     \n",
      "batting first          39           2       18    206      2           20   \n",
      "batting second         30           3       21    255      0           24   \n",
      "\n",
      "Winner          Pakistan  South Africa  Sri Lanka  West Indies  Zimbabwe  \n",
      "Victory                                                                   \n",
      "batting first         42            23         26           28         5  \n",
      "batting second        27            20         28           31         5  \n"
     ]
    }
   ],
   "source": [
    "print(pd.crosstab(match['Victory'],match['Winner'])) "
   ]
  },
  {
   "cell_type": "markdown",
   "metadata": {},
   "source": [
    "###### Since this is the dataset of matches played by india therefore india has this many wins and loses"
   ]
  },
  {
   "cell_type": "code",
   "execution_count": 16,
   "metadata": {},
   "outputs": [
    {
     "name": "stdout",
     "output_type": "stream",
     "text": [
      "Winner     Australia  Bangladesh  England  India  Kenya  New Zealand  \\\n",
      "Day                                                                    \n",
      "Friday            11           1        8     54      0            5   \n",
      "Monday             3           0        5     35      0            1   \n",
      "Saturday           6           1        5     80      0           10   \n",
      "Sunday            22           2        6     99      0           10   \n",
      "Thursday           9           1        5     60      1            8   \n",
      "Tuesday           11           0        5     53      0            5   \n",
      "Wednesday          7           0        5     80      1            5   \n",
      "\n",
      "Winner     Pakistan  South Africa  Sri Lanka  West Indies  Zimbabwe  \n",
      "Day                                                                  \n",
      "Friday           22             7          8            5         3  \n",
      "Monday            4             2          2            7         0  \n",
      "Saturday          9             3         12           13         1  \n",
      "Sunday           17            13         14            9         0  \n",
      "Thursday          4             5          3            8         2  \n",
      "Tuesday           6             4          7            9         0  \n",
      "Wednesday         7             9          8            8         4  \n"
     ]
    }
   ],
   "source": [
    "print(pd.crosstab(match['Day'],match['Winner']))"
   ]
  },
  {
   "cell_type": "code",
   "execution_count": 17,
   "metadata": {},
   "outputs": [
    {
     "name": "stdout",
     "output_type": "stream",
     "text": [
      "Winner        Australia  Bangladesh  England  India  Kenya  New Zealand  \\\n",
      "Host_Country                                                              \n",
      "Australia            35           0        3     37      0            5   \n",
      "Bangladesh            0           4        0     29      0            0   \n",
      "Canada                0           0        0      9      0            0   \n",
      "England               2           0       19     35      0            3   \n",
      "India                22           0       16    179      1            8   \n",
      "Ireland               0           0        0      3      0            0   \n",
      "Kenya                 0           0        0      6      0            1   \n",
      "Malaysia              1           0        0      1      0            0   \n",
      "Netherlands           0           0        0      0      0            0   \n",
      "New Zealand           2           0        0     14      0           21   \n",
      "Pakistan              0           0        0     14      0            0   \n",
      "Scotland              0           0        0      1      0            0   \n",
      "South Africa          2           0        0     17      1            0   \n",
      "Sri Lanka             3           0        0     40      0            3   \n",
      "U.A.E.                2           0        1     36      0            1   \n",
      "West Indies           0           1        0     17      0            0   \n",
      "Zimbabwe              0           0        0     23      0            2   \n",
      "\n",
      "Winner        Pakistan  South Africa  Sri Lanka  West Indies  Zimbabwe  \n",
      "Host_Country                                                            \n",
      "Australia            3             1          2            1         0  \n",
      "Bangladesh           4             1          5            1         0  \n",
      "Canada               8             0          0            1         0  \n",
      "England              2             0          2            2         1  \n",
      "India               18            12         10           26         3  \n",
      "Ireland              0             1          0            0         0  \n",
      "Kenya                0             1          0            0         0  \n",
      "Malaysia             0             0          0            1         0  \n",
      "Netherlands          1             0          0            0         0  \n",
      "New Zealand          0             1          0            1         0  \n",
      "Pakistan            12             0          1            0         0  \n",
      "Scotland             0             0          0            0         0  \n",
      "South Africa         1            21          0            0         1  \n",
      "Sri Lanka            1             0         27            0         0  \n",
      "U.A.E.              19             5          4            5         1  \n",
      "West Indies          0             0          2           20         0  \n",
      "Zimbabwe             0             0          1            1         4  \n"
     ]
    }
   ],
   "source": [
    "print(pd.crosstab(match['Host_Country'],match['Winner']))"
   ]
  },
  {
   "cell_type": "code",
   "execution_count": 46,
   "metadata": {},
   "outputs": [
    {
     "data": {
      "text/html": [
       "<div>\n",
       "<style scoped>\n",
       "    .dataframe tbody tr th:only-of-type {\n",
       "        vertical-align: middle;\n",
       "    }\n",
       "\n",
       "    .dataframe tbody tr th {\n",
       "        vertical-align: top;\n",
       "    }\n",
       "\n",
       "    .dataframe thead th {\n",
       "        text-align: right;\n",
       "    }\n",
       "</style>\n",
       "<table border=\"1\" class=\"dataframe\">\n",
       "  <thead>\n",
       "    <tr style=\"text-align: right;\">\n",
       "      <th></th>\n",
       "      <th>Team1</th>\n",
       "      <th>Team2</th>\n",
       "      <th>Ground</th>\n",
       "      <th>Winner</th>\n",
       "      <th>Host_Country</th>\n",
       "      <th>Venue_Team1</th>\n",
       "      <th>Venue_Team2</th>\n",
       "      <th>Innings_Team1</th>\n",
       "      <th>Innings_Team2</th>\n",
       "      <th>year</th>\n",
       "      <th>Day</th>\n",
       "      <th>Victory</th>\n",
       "    </tr>\n",
       "  </thead>\n",
       "  <tbody>\n",
       "    <tr>\n",
       "      <th>0</th>\n",
       "      <td>1</td>\n",
       "      <td>3</td>\n",
       "      <td>Manchester</td>\n",
       "      <td>3</td>\n",
       "      <td>8</td>\n",
       "      <td>Neutral</td>\n",
       "      <td>Neutral</td>\n",
       "      <td>First</td>\n",
       "      <td>Second</td>\n",
       "      <td>1975</td>\n",
       "      <td>Saturday</td>\n",
       "      <td>batting second</td>\n",
       "    </tr>\n",
       "    <tr>\n",
       "      <th>1</th>\n",
       "      <td>1</td>\n",
       "      <td>5</td>\n",
       "      <td>Birmingham</td>\n",
       "      <td>5</td>\n",
       "      <td>8</td>\n",
       "      <td>Neutral</td>\n",
       "      <td>Neutral</td>\n",
       "      <td>First</td>\n",
       "      <td>Second</td>\n",
       "      <td>1979</td>\n",
       "      <td>Saturday</td>\n",
       "      <td>batting second</td>\n",
       "    </tr>\n",
       "  </tbody>\n",
       "</table>\n",
       "</div>"
      ],
      "text/plain": [
       "   Team1  Team2      Ground  Winner  Host_Country Venue_Team1 Venue_Team2  \\\n",
       "0      1      3  Manchester       3             8     Neutral     Neutral   \n",
       "1      1      5  Birmingham       5             8     Neutral     Neutral   \n",
       "\n",
       "  Innings_Team1 Innings_Team2  year       Day         Victory  \n",
       "0         First        Second  1975  Saturday  batting second  \n",
       "1         First        Second  1979  Saturday  batting second  "
      ]
     },
     "execution_count": 46,
     "metadata": {},
     "output_type": "execute_result"
    }
   ],
   "source": [
    "match.replace(['India','Australia','New Zealand','Sri Lanka','West Indies',\n",
    "                 'South Africa','Bangladesh','England','Pakistan',\n",
    "                 'Zimbabwe','Kenya','Afghanistan','Hong Kong','Scotland','Ireland','Bermuda','Namibia','Netherlands','U.A.E.','Malaysia','Canada','East Africa']\n",
    "                ,[1,2,3,4,5,6,7,8,9,10,11,12,13,14,15,16,17,18,19,20,21,22])\n",
    "\n",
    "match.head(2)"
   ]
  },
  {
   "cell_type": "code",
   "execution_count": 20,
   "metadata": {},
   "outputs": [
    {
     "name": "stdout",
     "output_type": "stream",
     "text": [
      "1\n",
      "WI\n",
      "{'Ind': 1, 'Aus': 2, 'NZ': 3, 'SL': 4, 'WI': 5, 'SA': 6, 'Ban': 7, 'Eng': 8, 'Pak': 9, 'Zim': 10, 'Ken': 11, 'Afg': 12, 'HK': 13, 'Sco': 14, 'Ire': 15, 'Ber': 16, 'Nam': 17, 'Net': 18, 'Uae': 19, 'Mal': 20, 'can': 21, 'Ea': 22}\n"
     ]
    }
   ],
   "source": [
    "dicVal = TeamCode['Winner']\n",
    "print(dicVal['Ind']) #print value from key\n",
    "print(list(dicVal.keys())[list(dicVal.values()).index(5)])#find key by value\n",
    "print(dicVal)"
   ]
  },
  {
   "cell_type": "markdown",
   "metadata": {},
   "source": [
    "###### We have assign each team a number (manually) for our further preocessing"
   ]
  },
  {
   "cell_type": "code",
   "execution_count": 47,
   "metadata": {},
   "outputs": [],
   "source": [
    "df=match.loc[match['Host_Country'] == 8] # host country as England(8)"
   ]
  },
  {
   "cell_type": "code",
   "execution_count": 48,
   "metadata": {},
   "outputs": [
    {
     "data": {
      "text/html": [
       "<div>\n",
       "<style scoped>\n",
       "    .dataframe tbody tr th:only-of-type {\n",
       "        vertical-align: middle;\n",
       "    }\n",
       "\n",
       "    .dataframe tbody tr th {\n",
       "        vertical-align: top;\n",
       "    }\n",
       "\n",
       "    .dataframe thead th {\n",
       "        text-align: right;\n",
       "    }\n",
       "</style>\n",
       "<table border=\"1\" class=\"dataframe\">\n",
       "  <thead>\n",
       "    <tr style=\"text-align: right;\">\n",
       "      <th></th>\n",
       "      <th>Team1</th>\n",
       "      <th>Team2</th>\n",
       "      <th>Ground</th>\n",
       "      <th>Winner</th>\n",
       "      <th>Host_Country</th>\n",
       "      <th>Venue_Team1</th>\n",
       "      <th>Venue_Team2</th>\n",
       "      <th>Innings_Team1</th>\n",
       "      <th>Innings_Team2</th>\n",
       "      <th>year</th>\n",
       "      <th>Day</th>\n",
       "      <th>Victory</th>\n",
       "    </tr>\n",
       "  </thead>\n",
       "  <tbody>\n",
       "    <tr>\n",
       "      <th>0</th>\n",
       "      <td>1</td>\n",
       "      <td>3</td>\n",
       "      <td>Manchester</td>\n",
       "      <td>3</td>\n",
       "      <td>8</td>\n",
       "      <td>Neutral</td>\n",
       "      <td>Neutral</td>\n",
       "      <td>First</td>\n",
       "      <td>Second</td>\n",
       "      <td>1975</td>\n",
       "      <td>Saturday</td>\n",
       "      <td>batting second</td>\n",
       "    </tr>\n",
       "    <tr>\n",
       "      <th>1</th>\n",
       "      <td>1</td>\n",
       "      <td>5</td>\n",
       "      <td>Birmingham</td>\n",
       "      <td>5</td>\n",
       "      <td>8</td>\n",
       "      <td>Neutral</td>\n",
       "      <td>Neutral</td>\n",
       "      <td>First</td>\n",
       "      <td>Second</td>\n",
       "      <td>1979</td>\n",
       "      <td>Saturday</td>\n",
       "      <td>batting second</td>\n",
       "    </tr>\n",
       "    <tr>\n",
       "      <th>2</th>\n",
       "      <td>1</td>\n",
       "      <td>3</td>\n",
       "      <td>Leeds</td>\n",
       "      <td>3</td>\n",
       "      <td>8</td>\n",
       "      <td>Neutral</td>\n",
       "      <td>Neutral</td>\n",
       "      <td>First</td>\n",
       "      <td>Second</td>\n",
       "      <td>1979</td>\n",
       "      <td>Wednesday</td>\n",
       "      <td>batting second</td>\n",
       "    </tr>\n",
       "    <tr>\n",
       "      <th>3</th>\n",
       "      <td>1</td>\n",
       "      <td>4</td>\n",
       "      <td>Manchester</td>\n",
       "      <td>4</td>\n",
       "      <td>8</td>\n",
       "      <td>Neutral</td>\n",
       "      <td>Neutral</td>\n",
       "      <td>Second</td>\n",
       "      <td>First</td>\n",
       "      <td>1979</td>\n",
       "      <td>Saturday</td>\n",
       "      <td>batting first</td>\n",
       "    </tr>\n",
       "    <tr>\n",
       "      <th>15</th>\n",
       "      <td>1</td>\n",
       "      <td>5</td>\n",
       "      <td>Manchester</td>\n",
       "      <td>1</td>\n",
       "      <td>8</td>\n",
       "      <td>Neutral</td>\n",
       "      <td>Neutral</td>\n",
       "      <td>First</td>\n",
       "      <td>Second</td>\n",
       "      <td>1983</td>\n",
       "      <td>Thursday</td>\n",
       "      <td>batting first</td>\n",
       "    </tr>\n",
       "  </tbody>\n",
       "</table>\n",
       "</div>"
      ],
      "text/plain": [
       "    Team1  Team2      Ground  Winner  Host_Country Venue_Team1 Venue_Team2  \\\n",
       "0       1      3  Manchester       3             8     Neutral     Neutral   \n",
       "1       1      5  Birmingham       5             8     Neutral     Neutral   \n",
       "2       1      3       Leeds       3             8     Neutral     Neutral   \n",
       "3       1      4  Manchester       4             8     Neutral     Neutral   \n",
       "15      1      5  Manchester       1             8     Neutral     Neutral   \n",
       "\n",
       "   Innings_Team1 Innings_Team2  year        Day         Victory  \n",
       "0          First        Second  1975   Saturday  batting second  \n",
       "1          First        Second  1979   Saturday  batting second  \n",
       "2          First        Second  1979  Wednesday  batting second  \n",
       "3         Second         First  1979   Saturday   batting first  \n",
       "15         First        Second  1983   Thursday   batting first  "
      ]
     },
     "execution_count": 48,
     "metadata": {},
     "output_type": "execute_result"
    }
   ],
   "source": [
    "df.head()"
   ]
  },
  {
   "cell_type": "code",
   "execution_count": 49,
   "metadata": {},
   "outputs": [
    {
     "data": {
      "text/plain": [
       "(66, 12)"
      ]
     },
     "execution_count": 49,
     "metadata": {},
     "output_type": "execute_result"
    }
   ],
   "source": [
    "df.shape"
   ]
  },
  {
   "cell_type": "code",
   "execution_count": 50,
   "metadata": {},
   "outputs": [],
   "source": [
    "df=df.drop('Innings_Team2',axis=1) #Dropping innings column"
   ]
  },
  {
   "cell_type": "code",
   "execution_count": 51,
   "metadata": {},
   "outputs": [],
   "source": [
    "df=df.drop('Innings_Team1',axis=1) #Dropping innings column"
   ]
  },
  {
   "cell_type": "code",
   "execution_count": 52,
   "metadata": {},
   "outputs": [],
   "source": [
    "df=df.drop('year',axis=1) #Dropping year column"
   ]
  },
  {
   "cell_type": "code",
   "execution_count": 53,
   "metadata": {},
   "outputs": [
    {
     "data": {
      "text/html": [
       "<div>\n",
       "<style scoped>\n",
       "    .dataframe tbody tr th:only-of-type {\n",
       "        vertical-align: middle;\n",
       "    }\n",
       "\n",
       "    .dataframe tbody tr th {\n",
       "        vertical-align: top;\n",
       "    }\n",
       "\n",
       "    .dataframe thead th {\n",
       "        text-align: right;\n",
       "    }\n",
       "</style>\n",
       "<table border=\"1\" class=\"dataframe\">\n",
       "  <thead>\n",
       "    <tr style=\"text-align: right;\">\n",
       "      <th></th>\n",
       "      <th>Team1</th>\n",
       "      <th>Team2</th>\n",
       "      <th>Ground</th>\n",
       "      <th>Winner</th>\n",
       "      <th>Host_Country</th>\n",
       "      <th>Venue_Team1</th>\n",
       "      <th>Venue_Team2</th>\n",
       "      <th>Day</th>\n",
       "      <th>Victory</th>\n",
       "    </tr>\n",
       "  </thead>\n",
       "  <tbody>\n",
       "    <tr>\n",
       "      <th>0</th>\n",
       "      <td>1</td>\n",
       "      <td>3</td>\n",
       "      <td>Manchester</td>\n",
       "      <td>3</td>\n",
       "      <td>8</td>\n",
       "      <td>Neutral</td>\n",
       "      <td>Neutral</td>\n",
       "      <td>Saturday</td>\n",
       "      <td>batting second</td>\n",
       "    </tr>\n",
       "    <tr>\n",
       "      <th>1</th>\n",
       "      <td>1</td>\n",
       "      <td>5</td>\n",
       "      <td>Birmingham</td>\n",
       "      <td>5</td>\n",
       "      <td>8</td>\n",
       "      <td>Neutral</td>\n",
       "      <td>Neutral</td>\n",
       "      <td>Saturday</td>\n",
       "      <td>batting second</td>\n",
       "    </tr>\n",
       "    <tr>\n",
       "      <th>2</th>\n",
       "      <td>1</td>\n",
       "      <td>3</td>\n",
       "      <td>Leeds</td>\n",
       "      <td>3</td>\n",
       "      <td>8</td>\n",
       "      <td>Neutral</td>\n",
       "      <td>Neutral</td>\n",
       "      <td>Wednesday</td>\n",
       "      <td>batting second</td>\n",
       "    </tr>\n",
       "    <tr>\n",
       "      <th>3</th>\n",
       "      <td>1</td>\n",
       "      <td>4</td>\n",
       "      <td>Manchester</td>\n",
       "      <td>4</td>\n",
       "      <td>8</td>\n",
       "      <td>Neutral</td>\n",
       "      <td>Neutral</td>\n",
       "      <td>Saturday</td>\n",
       "      <td>batting first</td>\n",
       "    </tr>\n",
       "    <tr>\n",
       "      <th>15</th>\n",
       "      <td>1</td>\n",
       "      <td>5</td>\n",
       "      <td>Manchester</td>\n",
       "      <td>1</td>\n",
       "      <td>8</td>\n",
       "      <td>Neutral</td>\n",
       "      <td>Neutral</td>\n",
       "      <td>Thursday</td>\n",
       "      <td>batting first</td>\n",
       "    </tr>\n",
       "  </tbody>\n",
       "</table>\n",
       "</div>"
      ],
      "text/plain": [
       "    Team1  Team2      Ground  Winner  Host_Country Venue_Team1 Venue_Team2  \\\n",
       "0       1      3  Manchester       3             8     Neutral     Neutral   \n",
       "1       1      5  Birmingham       5             8     Neutral     Neutral   \n",
       "2       1      3       Leeds       3             8     Neutral     Neutral   \n",
       "3       1      4  Manchester       4             8     Neutral     Neutral   \n",
       "15      1      5  Manchester       1             8     Neutral     Neutral   \n",
       "\n",
       "          Day         Victory  \n",
       "0    Saturday  batting second  \n",
       "1    Saturday  batting second  \n",
       "2   Wednesday  batting second  \n",
       "3    Saturday   batting first  \n",
       "15   Thursday   batting first  "
      ]
     },
     "execution_count": 53,
     "metadata": {},
     "output_type": "execute_result"
    }
   ],
   "source": [
    "df.head()"
   ]
  },
  {
   "cell_type": "code",
   "execution_count": 54,
   "metadata": {},
   "outputs": [
    {
     "data": {
      "text/plain": [
       "The Oval           14\n",
       "Birmingham         10\n",
       "Manchester          8\n",
       "Leeds               8\n",
       "Lord's              6\n",
       "Nottingham          5\n",
       "Cardiff             4\n",
       "Southampton         3\n",
       "Bristol             3\n",
       "Leicester           2\n",
       "Taunton             1\n",
       "Chelmsford          1\n",
       "Tunbridge Wells     1\n",
       "Name: Ground, dtype: int64"
      ]
     },
     "execution_count": 54,
     "metadata": {},
     "output_type": "execute_result"
    }
   ],
   "source": [
    "df['Ground'].value_counts()"
   ]
  },
  {
   "cell_type": "code",
   "execution_count": 67,
   "metadata": {},
   "outputs": [],
   "source": [
    "s=set(df['Ground']) #Giving each category of ground a discrete value \n",
    "val=0\n",
    "for i in (s):\n",
    "    df['Ground'].replace(i, val,inplace=True)\n",
    "    val+=1"
   ]
  },
  {
   "cell_type": "code",
   "execution_count": 68,
   "metadata": {},
   "outputs": [
    {
     "data": {
      "text/plain": [
       "7     14\n",
       "11    10\n",
       "5      8\n",
       "0      8\n",
       "4      6\n",
       "10     5\n",
       "9      4\n",
       "2      3\n",
       "1      3\n",
       "6      2\n",
       "12     1\n",
       "8      1\n",
       "3      1\n",
       "Name: Ground, dtype: int64"
      ]
     },
     "execution_count": 68,
     "metadata": {},
     "output_type": "execute_result"
    }
   ],
   "source": [
    "df['Ground'].value_counts()"
   ]
  },
  {
   "cell_type": "code",
   "execution_count": 72,
   "metadata": {},
   "outputs": [],
   "source": [
    "df['Venue_Team1'].replace('Neutral', 0,inplace=True)\n",
    "df['Venue_Team1'].replace('Away', 1,inplace=True)\n",
    "df['Venue_Team1'].replace('Home', 2,inplace=True)\n",
    "\n",
    "df['Venue_Team2'].replace('Neutral', 0,inplace=True)\n",
    "df['Venue_Team2'].replace('Away', 1,inplace=True)\n",
    "df['Venue_Team2'].replace('Home', 2,inplace=True)"
   ]
  },
  {
   "cell_type": "code",
   "execution_count": 74,
   "metadata": {},
   "outputs": [],
   "source": [
    "df['Day'].replace('Sunday', 0,inplace=True)\n",
    "df['Day'].replace('Monday', 1,inplace=True)\n",
    "df['Day'].replace('Tuesday', 2,inplace=True)\n",
    "df['Day'].replace('Wednesday', 3,inplace=True)\n",
    "df['Day'].replace('Thursday', 4,inplace=True)\n",
    "df['Day'].replace('Friday', 5,inplace=True)\n",
    "df['Day'].replace('Saturday', 6,inplace=True)"
   ]
  },
  {
   "cell_type": "markdown",
   "metadata": {},
   "source": [
    "###### We are replacing every categorical data with a number manually"
   ]
  },
  {
   "cell_type": "code",
   "execution_count": 76,
   "metadata": {},
   "outputs": [],
   "source": [
    "df['Victory'].replace('batting second',0,inplace=True)\n",
    "df['Victory'].replace('batting first',1,inplace=True)"
   ]
  },
  {
   "cell_type": "code",
   "execution_count": 77,
   "metadata": {},
   "outputs": [
    {
     "data": {
      "text/html": [
       "<div>\n",
       "<style scoped>\n",
       "    .dataframe tbody tr th:only-of-type {\n",
       "        vertical-align: middle;\n",
       "    }\n",
       "\n",
       "    .dataframe tbody tr th {\n",
       "        vertical-align: top;\n",
       "    }\n",
       "\n",
       "    .dataframe thead th {\n",
       "        text-align: right;\n",
       "    }\n",
       "</style>\n",
       "<table border=\"1\" class=\"dataframe\">\n",
       "  <thead>\n",
       "    <tr style=\"text-align: right;\">\n",
       "      <th></th>\n",
       "      <th>Team1</th>\n",
       "      <th>Team2</th>\n",
       "      <th>Ground</th>\n",
       "      <th>Winner</th>\n",
       "      <th>Host_Country</th>\n",
       "      <th>Venue_Team1</th>\n",
       "      <th>Venue_Team2</th>\n",
       "      <th>Day</th>\n",
       "      <th>Victory</th>\n",
       "    </tr>\n",
       "  </thead>\n",
       "  <tbody>\n",
       "    <tr>\n",
       "      <th>0</th>\n",
       "      <td>1</td>\n",
       "      <td>3</td>\n",
       "      <td>5</td>\n",
       "      <td>3</td>\n",
       "      <td>8</td>\n",
       "      <td>0</td>\n",
       "      <td>0</td>\n",
       "      <td>6</td>\n",
       "      <td>0</td>\n",
       "    </tr>\n",
       "    <tr>\n",
       "      <th>1</th>\n",
       "      <td>1</td>\n",
       "      <td>5</td>\n",
       "      <td>11</td>\n",
       "      <td>5</td>\n",
       "      <td>8</td>\n",
       "      <td>0</td>\n",
       "      <td>0</td>\n",
       "      <td>6</td>\n",
       "      <td>0</td>\n",
       "    </tr>\n",
       "    <tr>\n",
       "      <th>2</th>\n",
       "      <td>1</td>\n",
       "      <td>3</td>\n",
       "      <td>0</td>\n",
       "      <td>3</td>\n",
       "      <td>8</td>\n",
       "      <td>0</td>\n",
       "      <td>0</td>\n",
       "      <td>3</td>\n",
       "      <td>0</td>\n",
       "    </tr>\n",
       "    <tr>\n",
       "      <th>3</th>\n",
       "      <td>1</td>\n",
       "      <td>4</td>\n",
       "      <td>5</td>\n",
       "      <td>4</td>\n",
       "      <td>8</td>\n",
       "      <td>0</td>\n",
       "      <td>0</td>\n",
       "      <td>6</td>\n",
       "      <td>1</td>\n",
       "    </tr>\n",
       "    <tr>\n",
       "      <th>15</th>\n",
       "      <td>1</td>\n",
       "      <td>5</td>\n",
       "      <td>5</td>\n",
       "      <td>1</td>\n",
       "      <td>8</td>\n",
       "      <td>0</td>\n",
       "      <td>0</td>\n",
       "      <td>4</td>\n",
       "      <td>1</td>\n",
       "    </tr>\n",
       "  </tbody>\n",
       "</table>\n",
       "</div>"
      ],
      "text/plain": [
       "    Team1  Team2  Ground  Winner  Host_Country  Venue_Team1  Venue_Team2  Day  \\\n",
       "0       1      3       5       3             8            0            0    6   \n",
       "1       1      5      11       5             8            0            0    6   \n",
       "2       1      3       0       3             8            0            0    3   \n",
       "3       1      4       5       4             8            0            0    6   \n",
       "15      1      5       5       1             8            0            0    4   \n",
       "\n",
       "    Victory  \n",
       "0         0  \n",
       "1         0  \n",
       "2         0  \n",
       "3         1  \n",
       "15        1  "
      ]
     },
     "execution_count": 77,
     "metadata": {},
     "output_type": "execute_result"
    }
   ],
   "source": [
    "df.head(5)"
   ]
  },
  {
   "cell_type": "code",
   "execution_count": 78,
   "metadata": {},
   "outputs": [
    {
     "data": {
      "text/plain": [
       "<matplotlib.axes._subplots.AxesSubplot at 0x1b23354f198>"
      ]
     },
     "execution_count": 78,
     "metadata": {},
     "output_type": "execute_result"
    },
    {
     "data": {
      "image/png": "[encoded data removed]",
      "text/plain": [
       "<Figure size 1440x720 with 2 Axes>"
      ]
     },
     "metadata": {
      "needs_background": "light"
     },
     "output_type": "display_data"
    }
   ],
   "source": [
    "#Finding Correlation\n",
    "corr = df.corr()\n",
    "mask = np.array(corr)\n",
    "mask[np.tril_indices_from(mask)] = False\n",
    "fig,ax= plt.subplots()\n",
    "fig.set_size_inches(20,10)\n",
    "sn.heatmap(corr, mask=mask,vmax=.9, square=True,annot=True, cmap=\"YlGnBu\")"
   ]
  },
  {
   "cell_type": "markdown",
   "metadata": {},
   "source": [
    "## So Venue are the ones that actually matters in  a win rather than ground"
   ]
  },
  {
   "cell_type": "code",
   "execution_count": 79,
   "metadata": {},
   "outputs": [
    {
     "data": {
      "text/plain": [
       "Team1           0\n",
       "Team2           0\n",
       "Ground          0\n",
       "Winner          0\n",
       "Host_Country    0\n",
       "Venue_Team1     0\n",
       "Venue_Team2     0\n",
       "Day             0\n",
       "Victory         0\n",
       "dtype: int64"
      ]
     },
     "execution_count": 79,
     "metadata": {},
     "output_type": "execute_result"
    }
   ],
   "source": [
    "df.isnull().sum() # Checking if any row contains a null entry"
   ]
  },
  {
   "cell_type": "code",
   "execution_count": 80,
   "metadata": {},
   "outputs": [],
   "source": [
    "target=df['Winner']\n",
    "df=df.drop('Winner',1)\n",
    "df=df.drop('Victory',1)"
   ]
  },
  {
   "cell_type": "code",
   "execution_count": 81,
   "metadata": {},
   "outputs": [],
   "source": [
    "train=pd.get_dummies(df)"
   ]
  },
  {
   "cell_type": "code",
   "execution_count": 82,
   "metadata": {},
   "outputs": [],
   "source": [
    "from sklearn.model_selection import train_test_split\n",
    "# splitting into train and validation with 20% data in validation set and 80% data in train set.\n",
    "X_train, X_val, y_train, y_val = train_test_split(train, target, test_size = 0.2, random_state=12)"
   ]
  },
  {
   "cell_type": "code",
   "execution_count": 83,
   "metadata": {},
   "outputs": [],
   "source": [
    "from sklearn.linear_model import LogisticRegression\n",
    "# defining the logistic regression model\n",
    "lreg = LogisticRegression()\n",
    "# fitting the model on  X_train and y_train\n",
    "lreg.fit(X_train,y_train)\n",
    "# making prediction on the validation set\n",
    "prediction = lreg.predict(X_val)"
   ]
  },
  {
   "cell_type": "code",
   "execution_count": 84,
   "metadata": {},
   "outputs": [
    {
     "data": {
      "text/plain": [
       "0.5714285714285714"
      ]
     },
     "execution_count": 84,
     "metadata": {},
     "output_type": "execute_result"
    }
   ],
   "source": [
    "from sklearn.metrics import accuracy_score\n",
    "# calculating the accuracy score\n",
    "accuracy_score(y_val, prediction)"
   ]
  },
  {
   "cell_type": "code",
   "execution_count": 85,
   "metadata": {},
   "outputs": [],
   "source": [
    "from sklearn.tree import DecisionTreeClassifier\n",
    "# defining the decision tree model with depth of 6, you can tune it further to improve the accuracy score\n",
    "clf = DecisionTreeClassifier(max_depth=6, random_state=0)\n",
    "# fitting the decision tree model\n",
    "clf.fit(X_train,y_train)\n",
    "# making prediction on the validation set\n",
    "predict = clf.predict(X_val)"
   ]
  },
  {
   "cell_type": "code",
   "execution_count": 86,
   "metadata": {},
   "outputs": [
    {
     "data": {
      "text/plain": [
       "0.6428571428571429"
      ]
     },
     "execution_count": 86,
     "metadata": {},
     "output_type": "execute_result"
    }
   ],
   "source": [
    "# calculating the accuracy score\n",
    "accuracy_score(y_val, predict)"
   ]
  },
  {
   "cell_type": "code",
   "execution_count": 91,
   "metadata": {},
   "outputs": [
    {
     "data": {
      "text/html": [
       "<div>\n",
       "<style scoped>\n",
       "    .dataframe tbody tr th:only-of-type {\n",
       "        vertical-align: middle;\n",
       "    }\n",
       "\n",
       "    .dataframe tbody tr th {\n",
       "        vertical-align: top;\n",
       "    }\n",
       "\n",
       "    .dataframe thead th {\n",
       "        text-align: right;\n",
       "    }\n",
       "</style>\n",
       "<table border=\"1\" class=\"dataframe\">\n",
       "  <thead>\n",
       "    <tr style=\"text-align: right;\">\n",
       "      <th></th>\n",
       "      <th>Team1</th>\n",
       "      <th>Team2</th>\n",
       "      <th>Ground</th>\n",
       "      <th>Host_Country</th>\n",
       "      <th>Venue_Team1</th>\n",
       "      <th>Venue_Team2</th>\n",
       "      <th>Day</th>\n",
       "    </tr>\n",
       "  </thead>\n",
       "  <tbody>\n",
       "    <tr>\n",
       "      <th>824</th>\n",
       "      <td>1</td>\n",
       "      <td>8</td>\n",
       "      <td>9</td>\n",
       "      <td>8</td>\n",
       "      <td>1</td>\n",
       "      <td>2</td>\n",
       "      <td>3</td>\n",
       "    </tr>\n",
       "    <tr>\n",
       "      <th>825</th>\n",
       "      <td>1</td>\n",
       "      <td>8</td>\n",
       "      <td>10</td>\n",
       "      <td>8</td>\n",
       "      <td>1</td>\n",
       "      <td>2</td>\n",
       "      <td>6</td>\n",
       "    </tr>\n",
       "    <tr>\n",
       "      <th>826</th>\n",
       "      <td>1</td>\n",
       "      <td>8</td>\n",
       "      <td>11</td>\n",
       "      <td>8</td>\n",
       "      <td>1</td>\n",
       "      <td>2</td>\n",
       "      <td>2</td>\n",
       "    </tr>\n",
       "    <tr>\n",
       "      <th>827</th>\n",
       "      <td>1</td>\n",
       "      <td>8</td>\n",
       "      <td>0</td>\n",
       "      <td>8</td>\n",
       "      <td>1</td>\n",
       "      <td>2</td>\n",
       "      <td>5</td>\n",
       "    </tr>\n",
       "    <tr>\n",
       "      <th>847</th>\n",
       "      <td>1</td>\n",
       "      <td>7</td>\n",
       "      <td>11</td>\n",
       "      <td>8</td>\n",
       "      <td>0</td>\n",
       "      <td>0</td>\n",
       "      <td>4</td>\n",
       "    </tr>\n",
       "  </tbody>\n",
       "</table>\n",
       "</div>"
      ],
      "text/plain": [
       "     Team1  Team2  Ground  Host_Country  Venue_Team1  Venue_Team2  Day\n",
       "824      1      8       9             8            1            2    3\n",
       "825      1      8      10             8            1            2    6\n",
       "826      1      8      11             8            1            2    2\n",
       "827      1      8       0             8            1            2    5\n",
       "847      1      7      11             8            0            0    4"
      ]
     },
     "execution_count": 91,
     "metadata": {},
     "output_type": "execute_result"
    }
   ],
   "source": [
    "df.tail()"
   ]
  },
  {
   "cell_type": "code",
   "execution_count": 115,
   "metadata": {},
   "outputs": [],
   "source": [
    "test=pd.read_csv(\"WorldCup.csv\")"
   ]
  },
  {
   "cell_type": "code",
   "execution_count": 116,
   "metadata": {},
   "outputs": [],
   "source": [
    "test = pd.get_dummies(test)"
   ]
  },
  {
   "cell_type": "code",
   "execution_count": 117,
   "metadata": {},
   "outputs": [],
   "source": [
    "test_prediction = clf.predict(test)"
   ]
  },
  {
   "cell_type": "code",
   "execution_count": 118,
   "metadata": {},
   "outputs": [
    {
     "name": "stdout",
     "output_type": "stream",
     "text": [
      "Ind\n"
     ]
    }
   ],
   "source": [
    "print(list(dicVal.keys())[list(dicVal.values()).index(test_prediction)])#finding key i.e team name from value"
   ]
  },
  {
   "cell_type": "markdown",
   "metadata": {},
   "source": [
    "## In the worldcup.csv contains ind vs pak of 18th june in  manchester"
   ]
  },
  {
   "cell_type": "markdown",
   "metadata": {},
   "source": [
    "# So our model with 64% accuracy (which is quiet less but still better than humans) predicted that india will win that match "
   ]
  }
 ],
 "metadata": {
  "kernelspec": {
   "display_name": "Python 3",
   "language": "python",
   "name": "python3"
  },
  "language_info": {
   "codemirror_mode": {
    "name": "ipython",
    "version": 3
   },
   "file_extension": ".py",
   "mimetype": "text/x-python",
   "name": "python",
   "nbconvert_exporter": "python",
   "pygments_lexer": "ipython3",
   "version": "3.7.0"
  }
 },
 "nbformat": 4,
 "nbformat_minor": 2
}
