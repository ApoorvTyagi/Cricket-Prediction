{
 "cells": [
  {
   "cell_type": "markdown",
   "metadata": {},
   "source": [
    "# ODI Cricket Prdiction Of India-2"
   ]
  },
  {
   "cell_type": "code",
   "execution_count": 115,
   "metadata": {},
   "outputs": [],
   "source": [
    "import numpy as np \n",
    "import pandas as pd"
   ]
  },
  {
   "cell_type": "code",
   "execution_count": 116,
   "metadata": {},
   "outputs": [
    {
     "data": {
      "text/html": [
       "<div>\n",
       "<style scoped>\n",
       "    .dataframe tbody tr th:only-of-type {\n",
       "        vertical-align: middle;\n",
       "    }\n",
       "\n",
       "    .dataframe tbody tr th {\n",
       "        vertical-align: top;\n",
       "    }\n",
       "\n",
       "    .dataframe thead th {\n",
       "        text-align: right;\n",
       "    }\n",
       "</style>\n",
       "<table border=\"1\" class=\"dataframe\">\n",
       "  <thead>\n",
       "    <tr style=\"text-align: right;\">\n",
       "      <th></th>\n",
       "      <th>Unnamed: 0</th>\n",
       "      <th>Unnamed: 0.1</th>\n",
       "      <th>Scorecard</th>\n",
       "      <th>Team 1</th>\n",
       "      <th>Team 2</th>\n",
       "      <th>Ground</th>\n",
       "      <th>Match Date</th>\n",
       "      <th>Winner</th>\n",
       "      <th>Host_Country</th>\n",
       "      <th>Venue_Team1</th>\n",
       "      <th>Venue_Team2</th>\n",
       "      <th>Innings_Team1</th>\n",
       "      <th>Innings_Team2</th>\n",
       "      <th>year</th>\n",
       "      <th>Day</th>\n",
       "      <th>Margin</th>\n",
       "      <th>Victory</th>\n",
       "    </tr>\n",
       "  </thead>\n",
       "  <tbody>\n",
       "    <tr>\n",
       "      <th>0</th>\n",
       "      <td>24</td>\n",
       "      <td>24</td>\n",
       "      <td>ODI # 28</td>\n",
       "      <td>India</td>\n",
       "      <td>New Zealand</td>\n",
       "      <td>Manchester</td>\n",
       "      <td>1975-06-14</td>\n",
       "      <td>New Zealand</td>\n",
       "      <td>England</td>\n",
       "      <td>Neutral</td>\n",
       "      <td>Neutral</td>\n",
       "      <td>First</td>\n",
       "      <td>Second</td>\n",
       "      <td>1975</td>\n",
       "      <td>Saturday</td>\n",
       "      <td>4 wickets</td>\n",
       "      <td>batting second</td>\n",
       "    </tr>\n",
       "    <tr>\n",
       "      <th>1</th>\n",
       "      <td>55</td>\n",
       "      <td>56</td>\n",
       "      <td>ODI # 61</td>\n",
       "      <td>India</td>\n",
       "      <td>West Indies</td>\n",
       "      <td>Birmingham</td>\n",
       "      <td>1979-06-09</td>\n",
       "      <td>West Indies</td>\n",
       "      <td>England</td>\n",
       "      <td>Neutral</td>\n",
       "      <td>Neutral</td>\n",
       "      <td>First</td>\n",
       "      <td>Second</td>\n",
       "      <td>1979</td>\n",
       "      <td>Saturday</td>\n",
       "      <td>9 wickets</td>\n",
       "      <td>batting second</td>\n",
       "    </tr>\n",
       "    <tr>\n",
       "      <th>2</th>\n",
       "      <td>59</td>\n",
       "      <td>60</td>\n",
       "      <td>ODI # 65</td>\n",
       "      <td>India</td>\n",
       "      <td>New Zealand</td>\n",
       "      <td>Leeds</td>\n",
       "      <td>1979-06-13</td>\n",
       "      <td>New Zealand</td>\n",
       "      <td>England</td>\n",
       "      <td>Neutral</td>\n",
       "      <td>Neutral</td>\n",
       "      <td>First</td>\n",
       "      <td>Second</td>\n",
       "      <td>1979</td>\n",
       "      <td>Wednesday</td>\n",
       "      <td>8 wickets</td>\n",
       "      <td>batting second</td>\n",
       "    </tr>\n",
       "    <tr>\n",
       "      <th>3</th>\n",
       "      <td>62</td>\n",
       "      <td>63</td>\n",
       "      <td>ODI # 68</td>\n",
       "      <td>India</td>\n",
       "      <td>Sri Lanka</td>\n",
       "      <td>Manchester</td>\n",
       "      <td>1979-06-16</td>\n",
       "      <td>Sri Lanka</td>\n",
       "      <td>England</td>\n",
       "      <td>Neutral</td>\n",
       "      <td>Neutral</td>\n",
       "      <td>Second</td>\n",
       "      <td>First</td>\n",
       "      <td>1979</td>\n",
       "      <td>Saturday</td>\n",
       "      <td>47 runs</td>\n",
       "      <td>batting first</td>\n",
       "    </tr>\n",
       "    <tr>\n",
       "      <th>4</th>\n",
       "      <td>93</td>\n",
       "      <td>94</td>\n",
       "      <td>ODI # 99</td>\n",
       "      <td>India</td>\n",
       "      <td>New Zealand</td>\n",
       "      <td>Perth</td>\n",
       "      <td>1980-12-09</td>\n",
       "      <td>India</td>\n",
       "      <td>Australia</td>\n",
       "      <td>Neutral</td>\n",
       "      <td>Neutral</td>\n",
       "      <td>First</td>\n",
       "      <td>Second</td>\n",
       "      <td>1980</td>\n",
       "      <td>Tuesday</td>\n",
       "      <td>5 runs</td>\n",
       "      <td>batting first</td>\n",
       "    </tr>\n",
       "  </tbody>\n",
       "</table>\n",
       "</div>"
      ],
      "text/plain": [
       "   Unnamed: 0  Unnamed: 0.1 Scorecard Team 1       Team 2      Ground  \\\n",
       "0          24            24  ODI # 28  India  New Zealand  Manchester   \n",
       "1          55            56  ODI # 61  India  West Indies  Birmingham   \n",
       "2          59            60  ODI # 65  India  New Zealand       Leeds   \n",
       "3          62            63  ODI # 68  India    Sri Lanka  Manchester   \n",
       "4          93            94  ODI # 99  India  New Zealand       Perth   \n",
       "\n",
       "   Match Date       Winner Host_Country Venue_Team1 Venue_Team2 Innings_Team1  \\\n",
       "0  1975-06-14  New Zealand      England     Neutral     Neutral         First   \n",
       "1  1979-06-09  West Indies      England     Neutral     Neutral         First   \n",
       "2  1979-06-13  New Zealand      England     Neutral     Neutral         First   \n",
       "3  1979-06-16    Sri Lanka      England     Neutral     Neutral        Second   \n",
       "4  1980-12-09        India    Australia     Neutral     Neutral         First   \n",
       "\n",
       "  Innings_Team2  year        Day     Margin         Victory  \n",
       "0        Second  1975   Saturday  4 wickets  batting second  \n",
       "1        Second  1979   Saturday  9 wickets  batting second  \n",
       "2        Second  1979  Wednesday  8 wickets  batting second  \n",
       "3         First  1979   Saturday    47 runs   batting first  \n",
       "4        Second  1980    Tuesday     5 runs   batting first  "
      ]
     },
     "execution_count": 116,
     "metadata": {},
     "output_type": "execute_result"
    }
   ],
   "source": [
    "matches=pd.read_csv('India_matches.csv')\n",
    "matches.head()"
   ]
  },
  {
   "cell_type": "code",
   "execution_count": 117,
   "metadata": {},
   "outputs": [
    {
     "data": {
      "text/plain": [
       "array(['New Zealand', 'West Indies', 'Sri Lanka', 'India', 'England',\n",
       "       'Australia', 'Pakistan', 'South Africa', 'Zimbabwe', 'Kenya',\n",
       "       'Bangladesh'], dtype=object)"
      ]
     },
     "execution_count": 117,
     "metadata": {},
     "output_type": "execute_result"
    }
   ],
   "source": [
    "matches.Winner.unique()"
   ]
  },
  {
   "cell_type": "code",
   "execution_count": 118,
   "metadata": {},
   "outputs": [
    {
     "data": {
      "text/html": [
       "<div>\n",
       "<style scoped>\n",
       "    .dataframe tbody tr th:only-of-type {\n",
       "        vertical-align: middle;\n",
       "    }\n",
       "\n",
       "    .dataframe tbody tr th {\n",
       "        vertical-align: top;\n",
       "    }\n",
       "\n",
       "    .dataframe thead th {\n",
       "        text-align: right;\n",
       "    }\n",
       "</style>\n",
       "<table border=\"1\" class=\"dataframe\">\n",
       "  <thead>\n",
       "    <tr style=\"text-align: right;\">\n",
       "      <th></th>\n",
       "      <th>Unnamed: 0</th>\n",
       "      <th>Unnamed: 0.1</th>\n",
       "      <th>Scorecard</th>\n",
       "      <th>Team 1</th>\n",
       "      <th>Team 2</th>\n",
       "      <th>Ground</th>\n",
       "      <th>Match Date</th>\n",
       "      <th>Winner</th>\n",
       "      <th>Host_Country</th>\n",
       "      <th>Venue_Team1</th>\n",
       "      <th>Venue_Team2</th>\n",
       "      <th>Innings_Team1</th>\n",
       "      <th>Innings_Team2</th>\n",
       "      <th>year</th>\n",
       "      <th>Day</th>\n",
       "      <th>Margin</th>\n",
       "      <th>Victory</th>\n",
       "    </tr>\n",
       "  </thead>\n",
       "  <tbody>\n",
       "    <tr>\n",
       "      <th>0</th>\n",
       "      <td>24</td>\n",
       "      <td>24</td>\n",
       "      <td>ODI # 28</td>\n",
       "      <td>1</td>\n",
       "      <td>3</td>\n",
       "      <td>Manchester</td>\n",
       "      <td>1975-06-14</td>\n",
       "      <td>3</td>\n",
       "      <td>8</td>\n",
       "      <td>Neutral</td>\n",
       "      <td>Neutral</td>\n",
       "      <td>First</td>\n",
       "      <td>Second</td>\n",
       "      <td>1975</td>\n",
       "      <td>Saturday</td>\n",
       "      <td>4 wickets</td>\n",
       "      <td>batting second</td>\n",
       "    </tr>\n",
       "    <tr>\n",
       "      <th>1</th>\n",
       "      <td>55</td>\n",
       "      <td>56</td>\n",
       "      <td>ODI # 61</td>\n",
       "      <td>1</td>\n",
       "      <td>5</td>\n",
       "      <td>Birmingham</td>\n",
       "      <td>1979-06-09</td>\n",
       "      <td>5</td>\n",
       "      <td>8</td>\n",
       "      <td>Neutral</td>\n",
       "      <td>Neutral</td>\n",
       "      <td>First</td>\n",
       "      <td>Second</td>\n",
       "      <td>1979</td>\n",
       "      <td>Saturday</td>\n",
       "      <td>9 wickets</td>\n",
       "      <td>batting second</td>\n",
       "    </tr>\n",
       "  </tbody>\n",
       "</table>\n",
       "</div>"
      ],
      "text/plain": [
       "   Unnamed: 0  Unnamed: 0.1 Scorecard  Team 1  Team 2      Ground  Match Date  \\\n",
       "0          24            24  ODI # 28       1       3  Manchester  1975-06-14   \n",
       "1          55            56  ODI # 61       1       5  Birmingham  1979-06-09   \n",
       "\n",
       "   Winner  Host_Country Venue_Team1 Venue_Team2 Innings_Team1 Innings_Team2  \\\n",
       "0       3             8     Neutral     Neutral         First        Second   \n",
       "1       5             8     Neutral     Neutral         First        Second   \n",
       "\n",
       "   year       Day     Margin         Victory  \n",
       "0  1975  Saturday  4 wickets  batting second  \n",
       "1  1979  Saturday  9 wickets  batting second  "
      ]
     },
     "execution_count": 118,
     "metadata": {},
     "output_type": "execute_result"
    }
   ],
   "source": [
    "matches.replace(['India','Australia','New Zealand','Sri Lanka','West Indies',\n",
    "                 'South Africa','Bangladesh','England','Pakistan',\n",
    "                 'Zimbabwe','Kenya','Afghanistan','Hong Kong','Scotland','Ireland','Bermuda','Namibia','Netherlands','U.A.E.','Malaysia','Canada','East Africa']\n",
    "                ,['Ind','Aus','NZ','SL','WI','SA','Ban','Eng','Pak','Zim','Ken','Afg','HK','Sco','Ire','Ber','Nam','Net','Uae','Mal','can','Ea'],inplace=True)\n",
    "\n",
    "TeamCode = {'Team 1': {'Ind':1,'Aus':2,'NZ':3,'SL':4,'WI':5,'SA':6,'Ban':7,'Eng':8,'Pak':9,'Zim':10,'Ken':11,'Afg':12,'HK':13,'Sco':14,'Ire':15,'Ber':16,'Nam':17,'Net':18,'Uae':19,'Mal':20,'can':21,'Ea':22},\n",
    "          'Team 2': {'Ind':1,'Aus':2,'NZ':3,'SL':4,'WI':5,'SA':6,'Ban':7,'Eng':8,'Pak':9,'Zim':10,'Ken':11,'Afg':12,'HK':13,'Sco':14,'Ire':15,'Ber':16,'Nam':17,'Net':18,'Uae':19,'Mal':20,'can':21,'Ea':22},\n",
    "          'Host_Country': {'Ind':1,'Aus':2,'NZ':3,'SL':4,'WI':5,'SA':6,'Ban':7,'Eng':8,'Pak':9,'Zim':10,'Ken':11,'Afg':12,'HK':13,'Sco':14,'Ire':15,'Ber':16,'Nam':17,'Net':18,'Uae':19,'Mal':20,'can':21,'Ea':22},\n",
    "          'Winner': {'Ind':1,'Aus':2,'NZ':3,'SL':4,'WI':5,'SA':6,'Ban':7,'Eng':8,'Pak':9,'Zim':10,'Ken':11,'Afg':12,'HK':13,'Sco':14,'Ire':15,'Ber':16,'Nam':17,'Net':18,'Uae':19,'Mal':20,'can':21,'Ea':22}}\n",
    "matches.replace(TeamCode, inplace=True)\n",
    "matches.head(2)"
   ]
  },
  {
   "cell_type": "code",
   "execution_count": 119,
   "metadata": {},
   "outputs": [
    {
     "name": "stdout",
     "output_type": "stream",
     "text": [
      "1\n",
      "WI\n",
      "{'Ind': 1, 'Aus': 2, 'NZ': 3, 'SL': 4, 'WI': 5, 'SA': 6, 'Ban': 7, 'Eng': 8, 'Pak': 9, 'Zim': 10, 'Ken': 11, 'Afg': 12, 'HK': 13, 'Sco': 14, 'Ire': 15, 'Ber': 16, 'Nam': 17, 'Net': 18, 'Uae': 19, 'Mal': 20, 'can': 21, 'Ea': 22}\n"
     ]
    }
   ],
   "source": [
    "dicVal = TeamCode['Winner']\n",
    "print(dicVal['Ind']) #print value from key\n",
    "print(list(dicVal.keys())[list(dicVal.values()).index(5)])#find key by value\n",
    "print(dicVal)"
   ]
  },
  {
   "cell_type": "code",
   "execution_count": 120,
   "metadata": {},
   "outputs": [
    {
     "data": {
      "text/html": [
       "<div>\n",
       "<style scoped>\n",
       "    .dataframe tbody tr th:only-of-type {\n",
       "        vertical-align: middle;\n",
       "    }\n",
       "\n",
       "    .dataframe tbody tr th {\n",
       "        vertical-align: top;\n",
       "    }\n",
       "\n",
       "    .dataframe thead th {\n",
       "        text-align: right;\n",
       "    }\n",
       "</style>\n",
       "<table border=\"1\" class=\"dataframe\">\n",
       "  <thead>\n",
       "    <tr style=\"text-align: right;\">\n",
       "      <th></th>\n",
       "      <th>Team 1</th>\n",
       "      <th>Team 2</th>\n",
       "      <th>Ground</th>\n",
       "      <th>Day</th>\n",
       "      <th>Host_Country</th>\n",
       "      <th>Winner</th>\n",
       "    </tr>\n",
       "  </thead>\n",
       "  <tbody>\n",
       "    <tr>\n",
       "      <th>0</th>\n",
       "      <td>1</td>\n",
       "      <td>3</td>\n",
       "      <td>Manchester</td>\n",
       "      <td>Saturday</td>\n",
       "      <td>8</td>\n",
       "      <td>3</td>\n",
       "    </tr>\n",
       "    <tr>\n",
       "      <th>1</th>\n",
       "      <td>1</td>\n",
       "      <td>5</td>\n",
       "      <td>Birmingham</td>\n",
       "      <td>Saturday</td>\n",
       "      <td>8</td>\n",
       "      <td>5</td>\n",
       "    </tr>\n",
       "  </tbody>\n",
       "</table>\n",
       "</div>"
      ],
      "text/plain": [
       "   Team 1  Team 2      Ground       Day  Host_Country  Winner\n",
       "0       1       3  Manchester  Saturday             8       3\n",
       "1       1       5  Birmingham  Saturday             8       5"
      ]
     },
     "execution_count": 120,
     "metadata": {},
     "output_type": "execute_result"
    }
   ],
   "source": [
    "matches = matches[['Team 1','Team 2','Ground','Day','Host_Country','Winner']]\n",
    "#we tool only the columns which are relevant to the outcome i.e winner\n",
    "matches.head(2)"
   ]
  },
  {
   "cell_type": "code",
   "execution_count": 121,
   "metadata": {},
   "outputs": [
    {
     "data": {
      "text/html": [
       "<div>\n",
       "<style scoped>\n",
       "    .dataframe tbody tr th:only-of-type {\n",
       "        vertical-align: middle;\n",
       "    }\n",
       "\n",
       "    .dataframe tbody tr th {\n",
       "        vertical-align: top;\n",
       "    }\n",
       "\n",
       "    .dataframe thead th {\n",
       "        text-align: right;\n",
       "    }\n",
       "</style>\n",
       "<table border=\"1\" class=\"dataframe\">\n",
       "  <thead>\n",
       "    <tr style=\"text-align: right;\">\n",
       "      <th></th>\n",
       "      <th>Team 1</th>\n",
       "      <th>Team 2</th>\n",
       "      <th>Host_Country</th>\n",
       "      <th>Winner</th>\n",
       "    </tr>\n",
       "  </thead>\n",
       "  <tbody>\n",
       "    <tr>\n",
       "      <th>count</th>\n",
       "      <td>855.0</td>\n",
       "      <td>855.000000</td>\n",
       "      <td>855.000000</td>\n",
       "      <td>855.000000</td>\n",
       "    </tr>\n",
       "    <tr>\n",
       "      <th>mean</th>\n",
       "      <td>1.0</td>\n",
       "      <td>5.873684</td>\n",
       "      <td>5.559064</td>\n",
       "      <td>3.029240</td>\n",
       "    </tr>\n",
       "    <tr>\n",
       "      <th>std</th>\n",
       "      <td>0.0</td>\n",
       "      <td>3.001631</td>\n",
       "      <td>5.747494</td>\n",
       "      <td>2.810625</td>\n",
       "    </tr>\n",
       "    <tr>\n",
       "      <th>min</th>\n",
       "      <td>1.0</td>\n",
       "      <td>2.000000</td>\n",
       "      <td>1.000000</td>\n",
       "      <td>1.000000</td>\n",
       "    </tr>\n",
       "    <tr>\n",
       "      <th>25%</th>\n",
       "      <td>1.0</td>\n",
       "      <td>4.000000</td>\n",
       "      <td>1.000000</td>\n",
       "      <td>1.000000</td>\n",
       "    </tr>\n",
       "    <tr>\n",
       "      <th>50%</th>\n",
       "      <td>1.0</td>\n",
       "      <td>5.000000</td>\n",
       "      <td>4.000000</td>\n",
       "      <td>1.000000</td>\n",
       "    </tr>\n",
       "    <tr>\n",
       "      <th>75%</th>\n",
       "      <td>1.0</td>\n",
       "      <td>8.000000</td>\n",
       "      <td>8.000000</td>\n",
       "      <td>5.000000</td>\n",
       "    </tr>\n",
       "    <tr>\n",
       "      <th>max</th>\n",
       "      <td>1.0</td>\n",
       "      <td>22.000000</td>\n",
       "      <td>21.000000</td>\n",
       "      <td>11.000000</td>\n",
       "    </tr>\n",
       "  </tbody>\n",
       "</table>\n",
       "</div>"
      ],
      "text/plain": [
       "       Team 1      Team 2  Host_Country      Winner\n",
       "count   855.0  855.000000    855.000000  855.000000\n",
       "mean      1.0    5.873684      5.559064    3.029240\n",
       "std       0.0    3.001631      5.747494    2.810625\n",
       "min       1.0    2.000000      1.000000    1.000000\n",
       "25%       1.0    4.000000      1.000000    1.000000\n",
       "50%       1.0    5.000000      4.000000    1.000000\n",
       "75%       1.0    8.000000      8.000000    5.000000\n",
       "max       1.0   22.000000     21.000000   11.000000"
      ]
     },
     "execution_count": 121,
     "metadata": {},
     "output_type": "execute_result"
    }
   ],
   "source": [
    "df = pd.DataFrame(matches)\n",
    "df.describe()"
   ]
  },
  {
   "cell_type": "code",
   "execution_count": 122,
   "metadata": {},
   "outputs": [
    {
     "data": {
      "text/plain": [
       "Team 1           int64\n",
       "Team 2           int64\n",
       "Ground          object\n",
       "Day             object\n",
       "Host_Country     int64\n",
       "Winner           int64\n",
       "dtype: object"
      ]
     },
     "execution_count": 122,
     "metadata": {},
     "output_type": "execute_result"
    }
   ],
   "source": [
    "df.dtypes"
   ]
  },
  {
   "cell_type": "code",
   "execution_count": 123,
   "metadata": {},
   "outputs": [
    {
     "data": {
      "text/plain": [
       "Team 1          int64\n",
       "Team 2          int64\n",
       "Ground          int64\n",
       "Day             int64\n",
       "Host_Country    int64\n",
       "Winner          int64\n",
       "dtype: object"
      ]
     },
     "execution_count": 123,
     "metadata": {},
     "output_type": "execute_result"
    }
   ],
   "source": [
    "from sklearn.preprocessing import LabelEncoder #using label encoder on our categorical data which is 'ground' and 'day'\n",
    "var_mod = ['Ground','Day']\n",
    "le = LabelEncoder()\n",
    "for i in var_mod:\n",
    "    df[i] = le.fit_transform(df[i])\n",
    "df.dtypes"
   ]
  },
  {
   "cell_type": "code",
   "execution_count": 124,
   "metadata": {},
   "outputs": [],
   "source": [
    "#building models to find the winner(Classification)-1)Logistic 2)RandomForest\n",
    "from sklearn.linear_model import LogisticRegression\n",
    "from sklearn.cross_validation import KFold   #K-fold cross validation\n",
    "from sklearn.ensemble import RandomForestClassifier\n",
    "from sklearn.tree import DecisionTreeClassifier, export_graphviz\n",
    "from sklearn import metrics\n",
    "\n",
    "#classification models and finding their performance:\n",
    "def classification_model(model, data, predictors, outcome):\n",
    "  model.fit(data[predictors],data[outcome])\n",
    "  \n",
    "  predictions = model.predict(data[predictors])\n",
    "  \n",
    "  accuracy = metrics.accuracy_score(predictions,data[outcome])\n",
    "  print('Accuracy : %s' % '{0:.3%}'.format(accuracy))\n",
    "\n",
    "  kf = KFold(data.shape[0], n_folds=5)\n",
    "  error = []\n",
    "  for train, test in kf:\n",
    "    train_predictors = (data[predictors].iloc[train,:])\n",
    "    \n",
    "    train_target = data[outcome].iloc[train]\n",
    "    \n",
    "    model.fit(train_predictors, train_target)\n",
    "    \n",
    "    error.append(model.score(data[predictors].iloc[test,:], data[outcome].iloc[test]))\n",
    " \n",
    "  print('Cross-Validation Score : %s' % '{0:.3%}'.format(np.mean(error)))\n",
    "\n",
    "  model.fit(data[predictors],data[outcome])"
   ]
  },
  {
   "cell_type": "code",
   "execution_count": 125,
   "metadata": {},
   "outputs": [
    {
     "name": "stderr",
     "output_type": "stream",
     "text": [
      "C:\\ProgramData\\Anaconda\\lib\\site-packages\\sklearn\\utils\\validation.py:578: DataConversionWarning: A column-vector y was passed when a 1d array was expected. Please change the shape of y to (n_samples, ), for example using ravel().\n",
      "  y = column_or_1d(y, warn=True)\n"
     ]
    },
    {
     "name": "stdout",
     "output_type": "stream",
     "text": [
      "Accuracy : 56.725%\n",
      "Cross-Validation Score : 55.673%\n"
     ]
    }
   ],
   "source": [
    "#1-Logistic Regression\n",
    "\n",
    "outcome_var=['Winner']\n",
    "predictor_var = ['Team 1','Team 2','Ground','Day','Host_Country']\n",
    "model = LogisticRegression()\n",
    "classification_model(model, df,predictor_var,outcome_var)"
   ]
  },
  {
   "cell_type": "code",
   "execution_count": 127,
   "metadata": {},
   "outputs": [
    {
     "name": "stderr",
     "output_type": "stream",
     "text": [
      "C:\\ProgramData\\Anaconda\\lib\\site-packages\\ipykernel_launcher.py:10: DataConversionWarning: A column-vector y was passed when a 1d array was expected. Please change the shape of y to (n_samples,), for example using ravel().\n",
      "  # Remove the CWD from sys.path while we load stuff.\n"
     ]
    },
    {
     "name": "stdout",
     "output_type": "stream",
     "text": [
      "Accuracy : 90.526%\n"
     ]
    },
    {
     "name": "stderr",
     "output_type": "stream",
     "text": [
      "C:\\ProgramData\\Anaconda\\lib\\site-packages\\ipykernel_launcher.py:24: DataConversionWarning: A column-vector y was passed when a 1d array was expected. Please change the shape of y to (n_samples,), for example using ravel().\n",
      "C:\\ProgramData\\Anaconda\\lib\\site-packages\\ipykernel_launcher.py:24: DataConversionWarning: A column-vector y was passed when a 1d array was expected. Please change the shape of y to (n_samples,), for example using ravel().\n",
      "C:\\ProgramData\\Anaconda\\lib\\site-packages\\ipykernel_launcher.py:24: DataConversionWarning: A column-vector y was passed when a 1d array was expected. Please change the shape of y to (n_samples,), for example using ravel().\n",
      "C:\\ProgramData\\Anaconda\\lib\\site-packages\\ipykernel_launcher.py:24: DataConversionWarning: A column-vector y was passed when a 1d array was expected. Please change the shape of y to (n_samples,), for example using ravel().\n",
      "C:\\ProgramData\\Anaconda\\lib\\site-packages\\ipykernel_launcher.py:24: DataConversionWarning: A column-vector y was passed when a 1d array was expected. Please change the shape of y to (n_samples,), for example using ravel().\n"
     ]
    },
    {
     "name": "stdout",
     "output_type": "stream",
     "text": [
      "Cross-Validation Score : 54.503%\n"
     ]
    },
    {
     "name": "stderr",
     "output_type": "stream",
     "text": [
      "C:\\ProgramData\\Anaconda\\lib\\site-packages\\ipykernel_launcher.py:30: DataConversionWarning: A column-vector y was passed when a 1d array was expected. Please change the shape of y to (n_samples,), for example using ravel().\n"
     ]
    }
   ],
   "source": [
    "#2-RandomForest \n",
    "\n",
    "model = RandomForestClassifier(n_estimators=100)\n",
    "outcome_var=['Winner']\n",
    "predictor_var = ['Team 1','Team 2','Ground','Day','Host_Country']\n",
    "classification_model(model, df,predictor_var,outcome_var)"
   ]
  },
  {
   "cell_type": "code",
   "execution_count": 128,
   "metadata": {},
   "outputs": [
    {
     "name": "stdout",
     "output_type": "stream",
     "text": [
      "Ind\n"
     ]
    }
   ],
   "source": [
    "# Let's Start our prediction with Ind Vs Aus (Quiet a rivalry)\n",
    "team1='Ind'\n",
    "team2='Aus'\n",
    "input=[dicVal[team1],dicVal[team2],'1','2','1']\n",
    "input = np.array(input).reshape((1, -1))\n",
    "output=model.predict(input)\n",
    "print(list(dicVal.keys())[list(dicVal.values()).index(output)])#finding key i.e team name from value"
   ]
  },
  {
   "cell_type": "code",
   "execution_count": 129,
   "metadata": {},
   "outputs": [
    {
     "name": "stdout",
     "output_type": "stream",
     "text": [
      "Team 2          38.152993\n",
      "Ground          28.529618\n",
      "Day             19.844842\n",
      "Host_Country    13.472547\n",
      "Team 1           0.000000\n",
      "dtype: float64\n"
     ]
    }
   ],
   "source": [
    "#feature Importance\n",
    "imp_input = pd.Series(model.feature_importances_, index=predictor_var).sort_values(ascending=False)\n",
    "print(imp_input*100)"
   ]
  },
  {
   "cell_type": "markdown",
   "metadata": {},
   "source": [
    "###### Ground>Day>HostCountry for winning"
   ]
  }
 ],
 "metadata": {
  "kernelspec": {
   "display_name": "Python 3",
   "language": "python",
   "name": "python3"
  },
  "language_info": {
   "codemirror_mode": {
    "name": "ipython",
    "version": 3
   },
   "file_extension": ".py",
   "mimetype": "text/x-python",
   "name": "python",
   "nbconvert_exporter": "python",
   "pygments_lexer": "ipython3",
   "version": "3.7.0"
  }
 },
 "nbformat": 4,
 "nbformat_minor": 2
}
